{
  "nbformat": 4,
  "nbformat_minor": 0,
  "metadata": {
    "colab": {
      "provenance": [],
      "authorship_tag": "ABX9TyNh9w88hAkdD3UiGCpCZgWq",
      "include_colab_link": true
    },
    "kernelspec": {
      "name": "python3",
      "display_name": "Python 3"
    },
    "language_info": {
      "name": "python"
    }
  },
  "cells": [
    {
      "cell_type": "markdown",
      "metadata": {
        "id": "view-in-github",
        "colab_type": "text"
      },
      "source": [
        "<a href=\"https://colab.research.google.com/github/mohammadJKA/test/blob/main/lecture1.ipynb\" target=\"_parent\"><img src=\"https://colab.research.google.com/assets/colab-badge.svg\" alt=\"Open In Colab\"/></a>"
      ]
    },
    {
      "cell_type": "code",
      "execution_count": 6,
      "metadata": {
        "colab": {
          "base_uri": "https://localhost:8080/"
        },
        "id": "xgVahCxZ4Gjm",
        "outputId": "9ceaeeb3-ced3-4cf2-d29b-d42f76720cbd"
      },
      "outputs": [
        {
          "output_type": "stream",
          "name": "stdout",
          "text": [
            "Enter first number: 2\n",
            "Enter operator (+, -, *, /): +\n",
            "Enter second number: 3\n",
            "Result: 5.0\n"
          ]
        }
      ],
      "source": [
        "def add(x, y):\n",
        "    \"\"\"Adds two numbers together.\"\"\"\n",
        "    return x + y\n",
        "\n",
        "def subtract(x, y):\n",
        "    \"\"\"Subtracts two numbers.\"\"\"\n",
        "    return x - y\n",
        "\n",
        "def multiply(x, y):\n",
        "    \"\"\"Multiplies two numbers.\"\"\"\n",
        "    return x * y\n",
        "\n",
        "def divide(x, y):\n",
        "    \"\"\"Divides two numbers.\n",
        "\n",
        "    Raises:\n",
        "        ZeroDivisionError: If the divisor is zero.\n",
        "    \"\"\"\n",
        "    if y == 0:\n",
        "        raise ZeroDivisionError(\"Cannot divide by zero\")\n",
        "    return x / y\n",
        "\n",
        "# Get input from the user\n",
        "num1 = float(input(\"Enter first number: \"))\n",
        "op = input(\"Enter operator (+, -, *, /): \")\n",
        "num2 = float(input(\"Enter second number: \"))\n",
        "result =0\n",
        "# Perform the calculation\n",
        "if op == \"+\":\n",
        "    result = add(num1, num2)\n",
        "elif op == \"-\":\n",
        "    result = subtract(num1, num2)\n",
        "elif op == \"*\":\n",
        "    result = multiply(num1, num2)\n",
        "elif op == \"/\":\n",
        "    result = divide(num1, num2)\n",
        "else:\n",
        "    print(\"Invalid operator\")\n",
        "\n",
        "# Print the result\n",
        "print(f\"Result: {result}\")"
      ]
    },
    {
      "cell_type": "markdown",
      "source": [
        "# New Section"
      ],
      "metadata": {
        "id": "FhCbfXnUMYs0"
      }
    }
  ]
}